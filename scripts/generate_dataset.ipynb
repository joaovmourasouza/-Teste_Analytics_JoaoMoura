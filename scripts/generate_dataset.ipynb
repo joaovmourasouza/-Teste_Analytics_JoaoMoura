{
 "cells": [
  {
   "cell_type": "markdown",
   "metadata": {},
   "source": [
    "*Observação*: Rodar esse notebook irá gerar dataframe e, consequetemente, resultados diferentes dos quais foram analisados"
   ]
  },
  {
   "cell_type": "code",
   "execution_count": 1,
   "metadata": {},
   "outputs": [],
   "source": [
    "import random\n",
    "import numpy as np\n",
    "import pandas as pd"
   ]
  },
  {
   "cell_type": "code",
   "execution_count": 2,
   "metadata": {},
   "outputs": [],
   "source": [
    "n_registros = 100\n",
    "start_date = \"2023-01-01\"\n",
    "end_date = \"2023-12-31\"\n",
    "produtos_categorias = {\n",
    "    \"Notebook\": \"Eletrônicos\",\n",
    "    \"Smartphone\": \"Eletrônicos\",\n",
    "    \"Geladeira\": \"Eletrodomésticos\",\n",
    "    \"Fogão\": \"Eletrodomésticos\",\n",
    "    \"Camisa\": \"Vestuário\",\n",
    "    \"Calça\": \"Vestuário\",\n",
    "    \"Tênis\": \"Calçados\",\n",
    "    \"Sandália\": \"Calçados\",\n",
    "}\n",
    "\n",
    "data = {\n",
    "    \"ID\": [i for i in range(1, n_registros + 1)],\n",
    "    \"Data\": pd.to_datetime(\n",
    "        np.random.choice(pd.date_range(start_date, end_date), n_registros)\n",
    "    ),\n",
    "    \"Produto\": random.choices(list(produtos_categorias.keys()), k=n_registros),\n",
    "}\n",
    "\n",
    "data[\"Categoria\"] = [produtos_categorias[produto] for produto in data[\"Produto\"]]\n",
    "data[\"Quantidade\"] = [random.randint(1, 10) for _ in range(n_registros)]\n",
    "data[\"Preço\"] = [round(random.uniform(50, 2000), 2) for _ in range(n_registros)]\n",
    "\n",
    "dataset = pd.DataFrame(data)"
   ]
  },
  {
   "cell_type": "code",
   "execution_count": 3,
   "metadata": {},
   "outputs": [],
   "source": [
    "dataset_with_problems = dataset.copy()\n",
    "\n",
    "duplicates = dataset_with_problems.sample(5, random_state=42)\n",
    "dataset_with_problems_and_duplicates = pd.concat([dataset_with_problems, duplicates], ignore_index=True)\n",
    "\n",
    "for col in [\"Data\", \"Produto\", \"Quantidade\", \"Preço\"]:\n",
    "    idx = random.sample(range(len(dataset_with_problems_and_duplicates)), 5)\n",
    "    dataset_with_problems_and_duplicates.loc[idx, col] = None\n",
    "\n",
    "dataset_with_problems_and_duplicates.loc[random.sample(range(len(dataset_with_problems_and_duplicates)), 5), \"Categoria\"] = \"Invalido\"\n",
    "\n",
    "dataset_with_problems_and_duplicates.loc[random.sample(range(len(dataset_with_problems_and_duplicates)), 5), \"Quantidade\"] = -1"
   ]
  },
  {
   "cell_type": "code",
   "execution_count": 8,
   "metadata": {},
   "outputs": [],
   "source": [
    "dataset_with_problems_and_duplicates.to_csv(\"../data/raw/dataset.csv\", index=False)"
   ]
  }
 ],
 "metadata": {
  "kernelspec": {
   "display_name": ".venv",
   "language": "python",
   "name": "python3"
  },
  "language_info": {
   "codemirror_mode": {
    "name": "ipython",
    "version": 3
   },
   "file_extension": ".py",
   "mimetype": "text/x-python",
   "name": "python",
   "nbconvert_exporter": "python",
   "pygments_lexer": "ipython3",
   "version": "3.12.3"
  }
 },
 "nbformat": 4,
 "nbformat_minor": 2
}
