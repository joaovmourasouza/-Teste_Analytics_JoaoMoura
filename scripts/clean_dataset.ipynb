{
 "cells": [
  {
   "cell_type": "code",
   "execution_count": 16,
   "metadata": {},
   "outputs": [],
   "source": [
    "import numpy as np\n",
    "import pandas as pd"
   ]
  },
  {
   "cell_type": "code",
   "execution_count": 17,
   "metadata": {},
   "outputs": [],
   "source": [
    "dataset = pd.read_csv('../data/raw/dataset.csv')"
   ]
  },
  {
   "cell_type": "code",
   "execution_count": 18,
   "metadata": {},
   "outputs": [],
   "source": [
    "dataset = dataset.drop_duplicates()\n",
    "\n",
    "dataset['Data'] = pd.to_datetime(dataset['Data'], errors='coerce').fillna(pd.Timestamp('2023-01-01'))\n",
    "\n",
    "dataset = dataset.dropna(subset=['Produto'])\n",
    "dataset = dataset.dropna(subset=['Categoria'])\n",
    "\n",
    "dataset['Quantidade'] = dataset['Quantidade'].apply(lambda x: x if x >= 0 else np.nan)\n",
    "dataset['Quantidade'] = dataset['Quantidade'].fillna(dataset['Quantidade'].mean()).astype(int)\n",
    "dataset['Preço'] = dataset['Preço'].fillna(dataset['Preço'].mean())\n",
    "\n",
    "dataset = dataset[dataset['Categoria'] != 'Invalido']"
   ]
  },
  {
   "cell_type": "code",
   "execution_count": 19,
   "metadata": {},
   "outputs": [],
   "source": [
    "dataset.to_csv('../data/clean/data_clean.csv', index=False)"
   ]
  }
 ],
 "metadata": {
  "kernelspec": {
   "display_name": ".venv",
   "language": "python",
   "name": "python3"
  },
  "language_info": {
   "codemirror_mode": {
    "name": "ipython",
    "version": 3
   },
   "file_extension": ".py",
   "mimetype": "text/x-python",
   "name": "python",
   "nbconvert_exporter": "python",
   "pygments_lexer": "ipython3",
   "version": "3.12.3"
  }
 },
 "nbformat": 4,
 "nbformat_minor": 2
}
